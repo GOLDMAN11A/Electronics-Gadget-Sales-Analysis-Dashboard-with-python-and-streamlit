{
 "cells": [
  {
   "cell_type": "markdown",
   "id": "9b73f1ad",
   "metadata": {},
   "source": [
    "<H1 style = 'text-align: center; color: green;'><b>Electronics Gadget Sales Analysis</b></h1><br>By OLUWADAMILARE JACOB"
   ]
  },
  {
   "cell_type": "markdown",
   "id": "3d089287",
   "metadata": {},
   "source": [
    "### [Problem Statement](trygfs)"
   ]
  },
  {
   "cell_type": "markdown",
   "id": "9ace926c",
   "metadata": {},
   "source": [
    "Blord Group is seeking to find the sales activities and performance in the phone and accesories<br>department of Blord Group, find the yearly sales trend the average and return in one year period<br> the product with highest order by country or city, respectives KPIs and other relevant insights"
   ]
  },
  {
   "cell_type": "code",
   "execution_count": 2,
   "id": "eb8dcd49",
   "metadata": {},
   "outputs": [],
   "source": [
    "# import the libraries\n",
    "import pandas as pd\n",
    "import numpy as np\n",
    "import seaborn as sns\n",
    "import matplotlib.pyplot as plt\n",
    "import warnings\n",
    "warnings.filterwarnings(\"ignore\")"
   ]
  },
  {
   "cell_type": "code",
   "execution_count": 3,
   "id": "a7000b92",
   "metadata": {},
   "outputs": [],
   "source": [
    "# load the dataset into a list\n",
    "data = [\n",
    "    'Sales_April_2019.csv',\n",
    "    'Sales_August_2019.csv',\n",
    "    'Sales_December_2019.csv',\n",
    "    'Sales_February_2019.csv',\n",
    "    'Sales_January_2019.csv',\n",
    "    'Sales_July_2019.csv',\n",
    "    'Sales_June_2019.csv',\n",
    "    'Sales_March_2019.csv',\n",
    "    'Sales_May_2019.csv',\n",
    "    'Sales_November_2019.csv',\n",
    "    'Sales_October_2019.csv',\n",
    "    'Sales_September_2019.csv']"
   ]
  },
  {
   "cell_type": "code",
   "execution_count": 4,
   "id": "58042d44",
   "metadata": {},
   "outputs": [
    {
     "name": "stdout",
     "output_type": "stream",
     "text": [
      "No of Files: 12\n"
     ]
    }
   ],
   "source": [
    "# count the tottal number of files \n",
    "print('No of Files:',len(data))"
   ]
  },
  {
   "cell_type": "code",
   "execution_count": 5,
   "id": "8f03130f",
   "metadata": {},
   "outputs": [
    {
     "data": {
      "text/html": [
       "<div>\n",
       "<style scoped>\n",
       "    .dataframe tbody tr th:only-of-type {\n",
       "        vertical-align: middle;\n",
       "    }\n",
       "\n",
       "    .dataframe tbody tr th {\n",
       "        vertical-align: top;\n",
       "    }\n",
       "\n",
       "    .dataframe thead th {\n",
       "        text-align: right;\n",
       "    }\n",
       "</style>\n",
       "<table border=\"1\" class=\"dataframe\">\n",
       "  <thead>\n",
       "    <tr style=\"text-align: right;\">\n",
       "      <th></th>\n",
       "      <th>Order ID</th>\n",
       "      <th>Product</th>\n",
       "      <th>Quantity Ordered</th>\n",
       "      <th>Price Each</th>\n",
       "      <th>Order Date</th>\n",
       "      <th>Purchase Address</th>\n",
       "    </tr>\n",
       "  </thead>\n",
       "  <tbody>\n",
       "    <tr>\n",
       "      <th>0</th>\n",
       "      <td>176558</td>\n",
       "      <td>USB-C Charging Cable</td>\n",
       "      <td>2</td>\n",
       "      <td>11.95</td>\n",
       "      <td>04/19/19 08:46</td>\n",
       "      <td>917 1st St, Dallas, TX 75001</td>\n",
       "    </tr>\n",
       "    <tr>\n",
       "      <th>1</th>\n",
       "      <td>NaN</td>\n",
       "      <td>NaN</td>\n",
       "      <td>NaN</td>\n",
       "      <td>NaN</td>\n",
       "      <td>NaN</td>\n",
       "      <td>NaN</td>\n",
       "    </tr>\n",
       "    <tr>\n",
       "      <th>2</th>\n",
       "      <td>176559</td>\n",
       "      <td>Bose SoundSport Headphones</td>\n",
       "      <td>1</td>\n",
       "      <td>99.99</td>\n",
       "      <td>04/07/19 22:30</td>\n",
       "      <td>682 Chestnut St, Boston, MA 02215</td>\n",
       "    </tr>\n",
       "    <tr>\n",
       "      <th>3</th>\n",
       "      <td>176560</td>\n",
       "      <td>Google Phone</td>\n",
       "      <td>1</td>\n",
       "      <td>600</td>\n",
       "      <td>04/12/19 14:38</td>\n",
       "      <td>669 Spruce St, Los Angeles, CA 90001</td>\n",
       "    </tr>\n",
       "    <tr>\n",
       "      <th>4</th>\n",
       "      <td>176560</td>\n",
       "      <td>Wired Headphones</td>\n",
       "      <td>1</td>\n",
       "      <td>11.99</td>\n",
       "      <td>04/12/19 14:38</td>\n",
       "      <td>669 Spruce St, Los Angeles, CA 90001</td>\n",
       "    </tr>\n",
       "  </tbody>\n",
       "</table>\n",
       "</div>"
      ],
      "text/plain": [
       "  Order ID                     Product Quantity Ordered Price Each  \\\n",
       "0   176558        USB-C Charging Cable                2      11.95   \n",
       "1      NaN                         NaN              NaN        NaN   \n",
       "2   176559  Bose SoundSport Headphones                1      99.99   \n",
       "3   176560                Google Phone                1        600   \n",
       "4   176560            Wired Headphones                1      11.99   \n",
       "\n",
       "       Order Date                      Purchase Address  \n",
       "0  04/19/19 08:46          917 1st St, Dallas, TX 75001  \n",
       "1             NaN                                   NaN  \n",
       "2  04/07/19 22:30     682 Chestnut St, Boston, MA 02215  \n",
       "3  04/12/19 14:38  669 Spruce St, Los Angeles, CA 90001  \n",
       "4  04/12/19 14:38  669 Spruce St, Los Angeles, CA 90001  "
      ]
     },
     "execution_count": 5,
     "metadata": {},
     "output_type": "execute_result"
    }
   ],
   "source": [
    "# use pandas to read the loaded data by looping\n",
    "dt = [pd.read_csv(d) for d in data]\n",
    "# concat the files\n",
    "df = pd.concat(dt)\n",
    "# check the df or data\n",
    "df.head()"
   ]
  },
  {
   "cell_type": "code",
   "execution_count": 6,
   "id": "ce5d8995",
   "metadata": {},
   "outputs": [
    {
     "data": {
      "text/plain": [
       "(186850, 6)"
      ]
     },
     "execution_count": 6,
     "metadata": {},
     "output_type": "execute_result"
    }
   ],
   "source": [
    "# check the total sales\n",
    "df.shape"
   ]
  },
  {
   "cell_type": "markdown",
   "id": "db946bfd",
   "metadata": {},
   "source": [
    "# `Data Preprocessing`"
   ]
  },
  {
   "cell_type": "code",
   "execution_count": 7,
   "id": "51bb203f",
   "metadata": {},
   "outputs": [
    {
     "name": "stdout",
     "output_type": "stream",
     "text": [
      "<class 'pandas.core.frame.DataFrame'>\n",
      "Index: 186850 entries, 0 to 11685\n",
      "Data columns (total 6 columns):\n",
      " #   Column            Non-Null Count   Dtype \n",
      "---  ------            --------------   ----- \n",
      " 0   Order ID          186305 non-null  object\n",
      " 1   Product           186305 non-null  object\n",
      " 2   Quantity Ordered  186305 non-null  object\n",
      " 3   Price Each        186305 non-null  object\n",
      " 4   Order Date        186305 non-null  object\n",
      " 5   Purchase Address  186305 non-null  object\n",
      "dtypes: object(6)\n",
      "memory usage: 10.0+ MB\n"
     ]
    }
   ],
   "source": [
    "# check for generai infomation\n",
    "df.info()"
   ]
  },
  {
   "cell_type": "code",
   "execution_count": 8,
   "id": "4df735d5",
   "metadata": {},
   "outputs": [
    {
     "data": {
      "text/plain": [
       "Order ID            545\n",
       "Product             545\n",
       "Quantity Ordered    545\n",
       "Price Each          545\n",
       "Order Date          545\n",
       "Purchase Address    545\n",
       "dtype: int64"
      ]
     },
     "execution_count": 8,
     "metadata": {},
     "output_type": "execute_result"
    }
   ],
   "source": [
    "# check missing values\n",
    "df.isna().sum()"
   ]
  },
  {
   "cell_type": "code",
   "execution_count": 9,
   "id": "3c36d3c1",
   "metadata": {},
   "outputs": [],
   "source": [
    "# drop or remove missing rows\n",
    "df.dropna(how='all',inplace=True)"
   ]
  },
  {
   "cell_type": "code",
   "execution_count": 10,
   "id": "1412f92a",
   "metadata": {},
   "outputs": [
    {
     "data": {
      "text/plain": [
       "np.int64(618)"
      ]
     },
     "execution_count": 10,
     "metadata": {},
     "output_type": "execute_result"
    }
   ],
   "source": [
    "# check for duplicate\n",
    "df.duplicated().sum()"
   ]
  },
  {
   "cell_type": "code",
   "execution_count": 11,
   "id": "04e05a61",
   "metadata": {},
   "outputs": [
    {
     "data": {
      "text/plain": [
       "(186305, 6)"
      ]
     },
     "execution_count": 11,
     "metadata": {},
     "output_type": "execute_result"
    }
   ],
   "source": [
    "# number of rows and colunms\n",
    "df.shape"
   ]
  },
  {
   "cell_type": "code",
   "execution_count": 12,
   "id": "dbb0f99d",
   "metadata": {},
   "outputs": [],
   "source": [
    "# reomve duplicates immediately\n",
    "df.drop_duplicates(inplace=True)"
   ]
  },
  {
   "cell_type": "code",
   "execution_count": 13,
   "id": "a09c8938",
   "metadata": {},
   "outputs": [
    {
     "data": {
      "text/plain": [
       "dtype('int64')"
      ]
     },
     "execution_count": 13,
     "metadata": {},
     "output_type": "execute_result"
    }
   ],
   "source": [
    "# convert numerical colunms into integer and float\n",
    "# filter out the rows with headers\n",
    "df = df[df['Quantity Ordered'].str.isdigit()] # remove rows where header is reapeated\n",
    "# convert to int\n",
    "df['Quantity Ordered'] = df['Quantity Ordered'].astype('int')\n",
    "# check if it has change\n",
    "df['Quantity Ordered'].dtype"
   ]
  },
  {
   "cell_type": "code",
   "execution_count": 14,
   "id": "4518c927",
   "metadata": {},
   "outputs": [
    {
     "data": {
      "text/plain": [
       "dtype('float64')"
      ]
     },
     "execution_count": 14,
     "metadata": {},
     "output_type": "execute_result"
    }
   ],
   "source": [
    "# filter out the rows with headers\n",
    "df = df[df['Price Each'].str.isdigit()] # remove rows where header is reapeated\n",
    "# convert to int\n",
    "df['Price Each'] = df['Price Each'].astype('float')\n",
    "# check if it has change\n",
    "df['Price Each'].dtype"
   ]
  },
  {
   "cell_type": "code",
   "execution_count": 15,
   "id": "015c2cc4",
   "metadata": {},
   "outputs": [
    {
     "data": {
      "text/plain": [
       "dtype('int64')"
      ]
     },
     "execution_count": 15,
     "metadata": {},
     "output_type": "execute_result"
    }
   ],
   "source": [
    "# filter out the rows with headers\n",
    "df = df[df['Order ID'].str.isdigit()] # remove rows where header is reapeated\n",
    "# convert to int\n",
    "df['Order ID'] = df['Order ID'].astype('int')\n",
    "# check if it has change\n",
    "df['Order ID'].dtype"
   ]
  },
  {
   "cell_type": "code",
   "execution_count": 16,
   "id": "642557ab",
   "metadata": {},
   "outputs": [],
   "source": [
    "# Convert order date to python datatime\n",
    "df['Order Date'] =pd.to_datetime(df['Order Date'], errors='coerce')"
   ]
  },
  {
   "cell_type": "markdown",
   "id": "4a77b4fc",
   "metadata": {},
   "source": [
    "` Add New Columns For Analysis`"
   ]
  },
  {
   "cell_type": "code",
   "execution_count": 17,
   "id": "3876df6e",
   "metadata": {},
   "outputs": [
    {
     "data": {
      "text/html": [
       "<div>\n",
       "<style scoped>\n",
       "    .dataframe tbody tr th:only-of-type {\n",
       "        vertical-align: middle;\n",
       "    }\n",
       "\n",
       "    .dataframe tbody tr th {\n",
       "        vertical-align: top;\n",
       "    }\n",
       "\n",
       "    .dataframe thead th {\n",
       "        text-align: right;\n",
       "    }\n",
       "</style>\n",
       "<table border=\"1\" class=\"dataframe\">\n",
       "  <thead>\n",
       "    <tr style=\"text-align: right;\">\n",
       "      <th></th>\n",
       "      <th>Order ID</th>\n",
       "      <th>Product</th>\n",
       "      <th>Quantity Ordered</th>\n",
       "      <th>Price Each</th>\n",
       "      <th>Order Date</th>\n",
       "      <th>Purchase Address</th>\n",
       "      <th>Month</th>\n",
       "    </tr>\n",
       "  </thead>\n",
       "  <tbody>\n",
       "    <tr>\n",
       "      <th>3</th>\n",
       "      <td>176560</td>\n",
       "      <td>Google Phone</td>\n",
       "      <td>1</td>\n",
       "      <td>600.0</td>\n",
       "      <td>2019-04-12 14:38:00</td>\n",
       "      <td>669 Spruce St, Los Angeles, CA 90001</td>\n",
       "      <td>April</td>\n",
       "    </tr>\n",
       "    <tr>\n",
       "      <th>9</th>\n",
       "      <td>176565</td>\n",
       "      <td>Macbook Pro Laptop</td>\n",
       "      <td>1</td>\n",
       "      <td>1700.0</td>\n",
       "      <td>2019-04-24 10:38:00</td>\n",
       "      <td>915 Willow St, San Francisco, CA 94016</td>\n",
       "      <td>April</td>\n",
       "    </tr>\n",
       "    <tr>\n",
       "      <th>11</th>\n",
       "      <td>176567</td>\n",
       "      <td>Google Phone</td>\n",
       "      <td>1</td>\n",
       "      <td>600.0</td>\n",
       "      <td>2019-04-18 17:18:00</td>\n",
       "      <td>444 7th St, Los Angeles, CA 90001</td>\n",
       "      <td>April</td>\n",
       "    </tr>\n",
       "    <tr>\n",
       "      <th>16</th>\n",
       "      <td>176572</td>\n",
       "      <td>Apple Airpods Headphones</td>\n",
       "      <td>1</td>\n",
       "      <td>150.0</td>\n",
       "      <td>2019-04-04 20:30:00</td>\n",
       "      <td>149 Dogwood St, New York City, NY 10001</td>\n",
       "      <td>April</td>\n",
       "    </tr>\n",
       "    <tr>\n",
       "      <th>18</th>\n",
       "      <td>176574</td>\n",
       "      <td>Google Phone</td>\n",
       "      <td>1</td>\n",
       "      <td>600.0</td>\n",
       "      <td>2019-04-03 19:42:00</td>\n",
       "      <td>20 Hill St, Los Angeles, CA 90001</td>\n",
       "      <td>April</td>\n",
       "    </tr>\n",
       "  </tbody>\n",
       "</table>\n",
       "</div>"
      ],
      "text/plain": [
       "    Order ID                   Product  Quantity Ordered  Price Each  \\\n",
       "3     176560              Google Phone                 1       600.0   \n",
       "9     176565        Macbook Pro Laptop                 1      1700.0   \n",
       "11    176567              Google Phone                 1       600.0   \n",
       "16    176572  Apple Airpods Headphones                 1       150.0   \n",
       "18    176574              Google Phone                 1       600.0   \n",
       "\n",
       "            Order Date                         Purchase Address  Month  \n",
       "3  2019-04-12 14:38:00     669 Spruce St, Los Angeles, CA 90001  April  \n",
       "9  2019-04-24 10:38:00   915 Willow St, San Francisco, CA 94016  April  \n",
       "11 2019-04-18 17:18:00        444 7th St, Los Angeles, CA 90001  April  \n",
       "16 2019-04-04 20:30:00  149 Dogwood St, New York City, NY 10001  April  \n",
       "18 2019-04-03 19:42:00        20 Hill St, Los Angeles, CA 90001  April  "
      ]
     },
     "execution_count": 17,
     "metadata": {},
     "output_type": "execute_result"
    }
   ],
   "source": [
    "# add month col\n",
    "df['Month'] = df['Order Date'].dt.month_name()\n",
    "df.head() # check"
   ]
  },
  {
   "cell_type": "code",
   "execution_count": 18,
   "id": "1bfca3bc",
   "metadata": {},
   "outputs": [
    {
     "data": {
      "text/html": [
       "<div>\n",
       "<style scoped>\n",
       "    .dataframe tbody tr th:only-of-type {\n",
       "        vertical-align: middle;\n",
       "    }\n",
       "\n",
       "    .dataframe tbody tr th {\n",
       "        vertical-align: top;\n",
       "    }\n",
       "\n",
       "    .dataframe thead th {\n",
       "        text-align: right;\n",
       "    }\n",
       "</style>\n",
       "<table border=\"1\" class=\"dataframe\">\n",
       "  <thead>\n",
       "    <tr style=\"text-align: right;\">\n",
       "      <th></th>\n",
       "      <th>Order ID</th>\n",
       "      <th>Product</th>\n",
       "      <th>Quantity Ordered</th>\n",
       "      <th>Price Each</th>\n",
       "      <th>Order Date</th>\n",
       "      <th>Purchase Address</th>\n",
       "      <th>Month</th>\n",
       "      <th>Day</th>\n",
       "    </tr>\n",
       "  </thead>\n",
       "  <tbody>\n",
       "    <tr>\n",
       "      <th>3</th>\n",
       "      <td>176560</td>\n",
       "      <td>Google Phone</td>\n",
       "      <td>1</td>\n",
       "      <td>600.0</td>\n",
       "      <td>2019-04-12 14:38:00</td>\n",
       "      <td>669 Spruce St, Los Angeles, CA 90001</td>\n",
       "      <td>April</td>\n",
       "      <td>Friday</td>\n",
       "    </tr>\n",
       "    <tr>\n",
       "      <th>9</th>\n",
       "      <td>176565</td>\n",
       "      <td>Macbook Pro Laptop</td>\n",
       "      <td>1</td>\n",
       "      <td>1700.0</td>\n",
       "      <td>2019-04-24 10:38:00</td>\n",
       "      <td>915 Willow St, San Francisco, CA 94016</td>\n",
       "      <td>April</td>\n",
       "      <td>Wednesday</td>\n",
       "    </tr>\n",
       "    <tr>\n",
       "      <th>11</th>\n",
       "      <td>176567</td>\n",
       "      <td>Google Phone</td>\n",
       "      <td>1</td>\n",
       "      <td>600.0</td>\n",
       "      <td>2019-04-18 17:18:00</td>\n",
       "      <td>444 7th St, Los Angeles, CA 90001</td>\n",
       "      <td>April</td>\n",
       "      <td>Thursday</td>\n",
       "    </tr>\n",
       "    <tr>\n",
       "      <th>16</th>\n",
       "      <td>176572</td>\n",
       "      <td>Apple Airpods Headphones</td>\n",
       "      <td>1</td>\n",
       "      <td>150.0</td>\n",
       "      <td>2019-04-04 20:30:00</td>\n",
       "      <td>149 Dogwood St, New York City, NY 10001</td>\n",
       "      <td>April</td>\n",
       "      <td>Thursday</td>\n",
       "    </tr>\n",
       "    <tr>\n",
       "      <th>18</th>\n",
       "      <td>176574</td>\n",
       "      <td>Google Phone</td>\n",
       "      <td>1</td>\n",
       "      <td>600.0</td>\n",
       "      <td>2019-04-03 19:42:00</td>\n",
       "      <td>20 Hill St, Los Angeles, CA 90001</td>\n",
       "      <td>April</td>\n",
       "      <td>Wednesday</td>\n",
       "    </tr>\n",
       "  </tbody>\n",
       "</table>\n",
       "</div>"
      ],
      "text/plain": [
       "    Order ID                   Product  Quantity Ordered  Price Each  \\\n",
       "3     176560              Google Phone                 1       600.0   \n",
       "9     176565        Macbook Pro Laptop                 1      1700.0   \n",
       "11    176567              Google Phone                 1       600.0   \n",
       "16    176572  Apple Airpods Headphones                 1       150.0   \n",
       "18    176574              Google Phone                 1       600.0   \n",
       "\n",
       "            Order Date                         Purchase Address  Month  \\\n",
       "3  2019-04-12 14:38:00     669 Spruce St, Los Angeles, CA 90001  April   \n",
       "9  2019-04-24 10:38:00   915 Willow St, San Francisco, CA 94016  April   \n",
       "11 2019-04-18 17:18:00        444 7th St, Los Angeles, CA 90001  April   \n",
       "16 2019-04-04 20:30:00  149 Dogwood St, New York City, NY 10001  April   \n",
       "18 2019-04-03 19:42:00        20 Hill St, Los Angeles, CA 90001  April   \n",
       "\n",
       "          Day  \n",
       "3      Friday  \n",
       "9   Wednesday  \n",
       "11   Thursday  \n",
       "16   Thursday  \n",
       "18  Wednesday  "
      ]
     },
     "execution_count": 18,
     "metadata": {},
     "output_type": "execute_result"
    }
   ],
   "source": [
    "# add day name \n",
    "df['Day'] = df['Order Date'].dt.day_name()\n",
    "df.head() # check"
   ]
  },
  {
   "cell_type": "code",
   "execution_count": 19,
   "id": "f1853c87",
   "metadata": {},
   "outputs": [
    {
     "data": {
      "text/html": [
       "<div>\n",
       "<style scoped>\n",
       "    .dataframe tbody tr th:only-of-type {\n",
       "        vertical-align: middle;\n",
       "    }\n",
       "\n",
       "    .dataframe tbody tr th {\n",
       "        vertical-align: top;\n",
       "    }\n",
       "\n",
       "    .dataframe thead th {\n",
       "        text-align: right;\n",
       "    }\n",
       "</style>\n",
       "<table border=\"1\" class=\"dataframe\">\n",
       "  <thead>\n",
       "    <tr style=\"text-align: right;\">\n",
       "      <th></th>\n",
       "      <th>Order ID</th>\n",
       "      <th>Product</th>\n",
       "      <th>Quantity Ordered</th>\n",
       "      <th>Price Each</th>\n",
       "      <th>Order Date</th>\n",
       "      <th>Purchase Address</th>\n",
       "      <th>Month</th>\n",
       "      <th>Day</th>\n",
       "      <th>Order Time</th>\n",
       "    </tr>\n",
       "  </thead>\n",
       "  <tbody>\n",
       "    <tr>\n",
       "      <th>3</th>\n",
       "      <td>176560</td>\n",
       "      <td>Google Phone</td>\n",
       "      <td>1</td>\n",
       "      <td>600.0</td>\n",
       "      <td>2019-04-12 14:38:00</td>\n",
       "      <td>669 Spruce St, Los Angeles, CA 90001</td>\n",
       "      <td>April</td>\n",
       "      <td>Friday</td>\n",
       "      <td>14:38:00</td>\n",
       "    </tr>\n",
       "    <tr>\n",
       "      <th>9</th>\n",
       "      <td>176565</td>\n",
       "      <td>Macbook Pro Laptop</td>\n",
       "      <td>1</td>\n",
       "      <td>1700.0</td>\n",
       "      <td>2019-04-24 10:38:00</td>\n",
       "      <td>915 Willow St, San Francisco, CA 94016</td>\n",
       "      <td>April</td>\n",
       "      <td>Wednesday</td>\n",
       "      <td>10:38:00</td>\n",
       "    </tr>\n",
       "    <tr>\n",
       "      <th>11</th>\n",
       "      <td>176567</td>\n",
       "      <td>Google Phone</td>\n",
       "      <td>1</td>\n",
       "      <td>600.0</td>\n",
       "      <td>2019-04-18 17:18:00</td>\n",
       "      <td>444 7th St, Los Angeles, CA 90001</td>\n",
       "      <td>April</td>\n",
       "      <td>Thursday</td>\n",
       "      <td>17:18:00</td>\n",
       "    </tr>\n",
       "    <tr>\n",
       "      <th>16</th>\n",
       "      <td>176572</td>\n",
       "      <td>Apple Airpods Headphones</td>\n",
       "      <td>1</td>\n",
       "      <td>150.0</td>\n",
       "      <td>2019-04-04 20:30:00</td>\n",
       "      <td>149 Dogwood St, New York City, NY 10001</td>\n",
       "      <td>April</td>\n",
       "      <td>Thursday</td>\n",
       "      <td>20:30:00</td>\n",
       "    </tr>\n",
       "    <tr>\n",
       "      <th>18</th>\n",
       "      <td>176574</td>\n",
       "      <td>Google Phone</td>\n",
       "      <td>1</td>\n",
       "      <td>600.0</td>\n",
       "      <td>2019-04-03 19:42:00</td>\n",
       "      <td>20 Hill St, Los Angeles, CA 90001</td>\n",
       "      <td>April</td>\n",
       "      <td>Wednesday</td>\n",
       "      <td>19:42:00</td>\n",
       "    </tr>\n",
       "  </tbody>\n",
       "</table>\n",
       "</div>"
      ],
      "text/plain": [
       "    Order ID                   Product  Quantity Ordered  Price Each  \\\n",
       "3     176560              Google Phone                 1       600.0   \n",
       "9     176565        Macbook Pro Laptop                 1      1700.0   \n",
       "11    176567              Google Phone                 1       600.0   \n",
       "16    176572  Apple Airpods Headphones                 1       150.0   \n",
       "18    176574              Google Phone                 1       600.0   \n",
       "\n",
       "            Order Date                         Purchase Address  Month  \\\n",
       "3  2019-04-12 14:38:00     669 Spruce St, Los Angeles, CA 90001  April   \n",
       "9  2019-04-24 10:38:00   915 Willow St, San Francisco, CA 94016  April   \n",
       "11 2019-04-18 17:18:00        444 7th St, Los Angeles, CA 90001  April   \n",
       "16 2019-04-04 20:30:00  149 Dogwood St, New York City, NY 10001  April   \n",
       "18 2019-04-03 19:42:00        20 Hill St, Los Angeles, CA 90001  April   \n",
       "\n",
       "          Day Order Time  \n",
       "3      Friday   14:38:00  \n",
       "9   Wednesday   10:38:00  \n",
       "11   Thursday   17:18:00  \n",
       "16   Thursday   20:30:00  \n",
       "18  Wednesday   19:42:00  "
      ]
     },
     "execution_count": 19,
     "metadata": {},
     "output_type": "execute_result"
    }
   ],
   "source": [
    "# add order time col\n",
    "df['Order Time'] = df['Order Date'].dt.time\n",
    "df.head() # check"
   ]
  },
  {
   "cell_type": "code",
   "execution_count": 20,
   "id": "0514ef31",
   "metadata": {},
   "outputs": [
    {
     "data": {
      "text/html": [
       "<div>\n",
       "<style scoped>\n",
       "    .dataframe tbody tr th:only-of-type {\n",
       "        vertical-align: middle;\n",
       "    }\n",
       "\n",
       "    .dataframe tbody tr th {\n",
       "        vertical-align: top;\n",
       "    }\n",
       "\n",
       "    .dataframe thead th {\n",
       "        text-align: right;\n",
       "    }\n",
       "</style>\n",
       "<table border=\"1\" class=\"dataframe\">\n",
       "  <thead>\n",
       "    <tr style=\"text-align: right;\">\n",
       "      <th></th>\n",
       "      <th>Order ID</th>\n",
       "      <th>Product</th>\n",
       "      <th>Quantity Ordered</th>\n",
       "      <th>Price Each</th>\n",
       "      <th>Order Date</th>\n",
       "      <th>Purchase Address</th>\n",
       "      <th>Month</th>\n",
       "      <th>Day</th>\n",
       "      <th>Order Time</th>\n",
       "      <th>Amount</th>\n",
       "    </tr>\n",
       "  </thead>\n",
       "  <tbody>\n",
       "    <tr>\n",
       "      <th>3</th>\n",
       "      <td>176560</td>\n",
       "      <td>Google Phone</td>\n",
       "      <td>1</td>\n",
       "      <td>600.0</td>\n",
       "      <td>2019-04-12 14:38:00</td>\n",
       "      <td>669 Spruce St, Los Angeles, CA 90001</td>\n",
       "      <td>April</td>\n",
       "      <td>Friday</td>\n",
       "      <td>14:38:00</td>\n",
       "      <td>600.0</td>\n",
       "    </tr>\n",
       "    <tr>\n",
       "      <th>9</th>\n",
       "      <td>176565</td>\n",
       "      <td>Macbook Pro Laptop</td>\n",
       "      <td>1</td>\n",
       "      <td>1700.0</td>\n",
       "      <td>2019-04-24 10:38:00</td>\n",
       "      <td>915 Willow St, San Francisco, CA 94016</td>\n",
       "      <td>April</td>\n",
       "      <td>Wednesday</td>\n",
       "      <td>10:38:00</td>\n",
       "      <td>1700.0</td>\n",
       "    </tr>\n",
       "    <tr>\n",
       "      <th>11</th>\n",
       "      <td>176567</td>\n",
       "      <td>Google Phone</td>\n",
       "      <td>1</td>\n",
       "      <td>600.0</td>\n",
       "      <td>2019-04-18 17:18:00</td>\n",
       "      <td>444 7th St, Los Angeles, CA 90001</td>\n",
       "      <td>April</td>\n",
       "      <td>Thursday</td>\n",
       "      <td>17:18:00</td>\n",
       "      <td>600.0</td>\n",
       "    </tr>\n",
       "    <tr>\n",
       "      <th>16</th>\n",
       "      <td>176572</td>\n",
       "      <td>Apple Airpods Headphones</td>\n",
       "      <td>1</td>\n",
       "      <td>150.0</td>\n",
       "      <td>2019-04-04 20:30:00</td>\n",
       "      <td>149 Dogwood St, New York City, NY 10001</td>\n",
       "      <td>April</td>\n",
       "      <td>Thursday</td>\n",
       "      <td>20:30:00</td>\n",
       "      <td>150.0</td>\n",
       "    </tr>\n",
       "    <tr>\n",
       "      <th>18</th>\n",
       "      <td>176574</td>\n",
       "      <td>Google Phone</td>\n",
       "      <td>1</td>\n",
       "      <td>600.0</td>\n",
       "      <td>2019-04-03 19:42:00</td>\n",
       "      <td>20 Hill St, Los Angeles, CA 90001</td>\n",
       "      <td>April</td>\n",
       "      <td>Wednesday</td>\n",
       "      <td>19:42:00</td>\n",
       "      <td>600.0</td>\n",
       "    </tr>\n",
       "  </tbody>\n",
       "</table>\n",
       "</div>"
      ],
      "text/plain": [
       "    Order ID                   Product  Quantity Ordered  Price Each  \\\n",
       "3     176560              Google Phone                 1       600.0   \n",
       "9     176565        Macbook Pro Laptop                 1      1700.0   \n",
       "11    176567              Google Phone                 1       600.0   \n",
       "16    176572  Apple Airpods Headphones                 1       150.0   \n",
       "18    176574              Google Phone                 1       600.0   \n",
       "\n",
       "            Order Date                         Purchase Address  Month  \\\n",
       "3  2019-04-12 14:38:00     669 Spruce St, Los Angeles, CA 90001  April   \n",
       "9  2019-04-24 10:38:00   915 Willow St, San Francisco, CA 94016  April   \n",
       "11 2019-04-18 17:18:00        444 7th St, Los Angeles, CA 90001  April   \n",
       "16 2019-04-04 20:30:00  149 Dogwood St, New York City, NY 10001  April   \n",
       "18 2019-04-03 19:42:00        20 Hill St, Los Angeles, CA 90001  April   \n",
       "\n",
       "          Day Order Time  Amount  \n",
       "3      Friday   14:38:00   600.0  \n",
       "9   Wednesday   10:38:00  1700.0  \n",
       "11   Thursday   17:18:00   600.0  \n",
       "16   Thursday   20:30:00   150.0  \n",
       "18  Wednesday   19:42:00   600.0  "
      ]
     },
     "execution_count": 20,
     "metadata": {},
     "output_type": "execute_result"
    }
   ],
   "source": [
    "# add a new col for amount\n",
    "df['Amount'] = (df['Quantity Ordered'] * df['Price Each']).round(2)\n",
    "df.head() # check "
   ]
  },
  {
   "cell_type": "code",
   "execution_count": 21,
   "id": "73be7c34",
   "metadata": {},
   "outputs": [
    {
     "data": {
      "text/html": [
       "<div>\n",
       "<style scoped>\n",
       "    .dataframe tbody tr th:only-of-type {\n",
       "        vertical-align: middle;\n",
       "    }\n",
       "\n",
       "    .dataframe tbody tr th {\n",
       "        vertical-align: top;\n",
       "    }\n",
       "\n",
       "    .dataframe thead th {\n",
       "        text-align: right;\n",
       "    }\n",
       "</style>\n",
       "<table border=\"1\" class=\"dataframe\">\n",
       "  <thead>\n",
       "    <tr style=\"text-align: right;\">\n",
       "      <th></th>\n",
       "      <th>Order ID</th>\n",
       "      <th>Product</th>\n",
       "      <th>Quantity Ordered</th>\n",
       "      <th>Price Each</th>\n",
       "      <th>Order Date</th>\n",
       "      <th>Purchase Address</th>\n",
       "      <th>Month</th>\n",
       "      <th>Day</th>\n",
       "      <th>Order Time</th>\n",
       "      <th>Amount</th>\n",
       "      <th>City</th>\n",
       "    </tr>\n",
       "  </thead>\n",
       "  <tbody>\n",
       "    <tr>\n",
       "      <th>3</th>\n",
       "      <td>176560</td>\n",
       "      <td>Google Phone</td>\n",
       "      <td>1</td>\n",
       "      <td>600.0</td>\n",
       "      <td>2019-04-12 14:38:00</td>\n",
       "      <td>669 Spruce St, Los Angeles, CA 90001</td>\n",
       "      <td>April</td>\n",
       "      <td>Friday</td>\n",
       "      <td>14:38:00</td>\n",
       "      <td>600.0</td>\n",
       "      <td>Los Angeles</td>\n",
       "    </tr>\n",
       "    <tr>\n",
       "      <th>9</th>\n",
       "      <td>176565</td>\n",
       "      <td>Macbook Pro Laptop</td>\n",
       "      <td>1</td>\n",
       "      <td>1700.0</td>\n",
       "      <td>2019-04-24 10:38:00</td>\n",
       "      <td>915 Willow St, San Francisco, CA 94016</td>\n",
       "      <td>April</td>\n",
       "      <td>Wednesday</td>\n",
       "      <td>10:38:00</td>\n",
       "      <td>1700.0</td>\n",
       "      <td>San Francisco</td>\n",
       "    </tr>\n",
       "    <tr>\n",
       "      <th>11</th>\n",
       "      <td>176567</td>\n",
       "      <td>Google Phone</td>\n",
       "      <td>1</td>\n",
       "      <td>600.0</td>\n",
       "      <td>2019-04-18 17:18:00</td>\n",
       "      <td>444 7th St, Los Angeles, CA 90001</td>\n",
       "      <td>April</td>\n",
       "      <td>Thursday</td>\n",
       "      <td>17:18:00</td>\n",
       "      <td>600.0</td>\n",
       "      <td>Los Angeles</td>\n",
       "    </tr>\n",
       "    <tr>\n",
       "      <th>16</th>\n",
       "      <td>176572</td>\n",
       "      <td>Apple Airpods Headphones</td>\n",
       "      <td>1</td>\n",
       "      <td>150.0</td>\n",
       "      <td>2019-04-04 20:30:00</td>\n",
       "      <td>149 Dogwood St, New York City, NY 10001</td>\n",
       "      <td>April</td>\n",
       "      <td>Thursday</td>\n",
       "      <td>20:30:00</td>\n",
       "      <td>150.0</td>\n",
       "      <td>New York City</td>\n",
       "    </tr>\n",
       "    <tr>\n",
       "      <th>18</th>\n",
       "      <td>176574</td>\n",
       "      <td>Google Phone</td>\n",
       "      <td>1</td>\n",
       "      <td>600.0</td>\n",
       "      <td>2019-04-03 19:42:00</td>\n",
       "      <td>20 Hill St, Los Angeles, CA 90001</td>\n",
       "      <td>April</td>\n",
       "      <td>Wednesday</td>\n",
       "      <td>19:42:00</td>\n",
       "      <td>600.0</td>\n",
       "      <td>Los Angeles</td>\n",
       "    </tr>\n",
       "  </tbody>\n",
       "</table>\n",
       "</div>"
      ],
      "text/plain": [
       "    Order ID                   Product  Quantity Ordered  Price Each  \\\n",
       "3     176560              Google Phone                 1       600.0   \n",
       "9     176565        Macbook Pro Laptop                 1      1700.0   \n",
       "11    176567              Google Phone                 1       600.0   \n",
       "16    176572  Apple Airpods Headphones                 1       150.0   \n",
       "18    176574              Google Phone                 1       600.0   \n",
       "\n",
       "            Order Date                         Purchase Address  Month  \\\n",
       "3  2019-04-12 14:38:00     669 Spruce St, Los Angeles, CA 90001  April   \n",
       "9  2019-04-24 10:38:00   915 Willow St, San Francisco, CA 94016  April   \n",
       "11 2019-04-18 17:18:00        444 7th St, Los Angeles, CA 90001  April   \n",
       "16 2019-04-04 20:30:00  149 Dogwood St, New York City, NY 10001  April   \n",
       "18 2019-04-03 19:42:00        20 Hill St, Los Angeles, CA 90001  April   \n",
       "\n",
       "          Day Order Time  Amount            City  \n",
       "3      Friday   14:38:00   600.0     Los Angeles  \n",
       "9   Wednesday   10:38:00  1700.0   San Francisco  \n",
       "11   Thursday   17:18:00   600.0     Los Angeles  \n",
       "16   Thursday   20:30:00   150.0   New York City  \n",
       "18  Wednesday   19:42:00   600.0     Los Angeles  "
      ]
     },
     "execution_count": 21,
     "metadata": {},
     "output_type": "execute_result"
    }
   ],
   "source": [
    "# extract city from the address\n",
    "df['City'] = df['Purchase Address'].apply(lambda city : city.split(',')[-2])\n",
    "df.head()"
   ]
  },
  {
   "cell_type": "markdown",
   "id": "41f352a8",
   "metadata": {},
   "source": [
    "`Weekly Sales Trend`"
   ]
  },
  {
   "cell_type": "code",
   "execution_count": 22,
   "id": "aa26e886",
   "metadata": {},
   "outputs": [
    {
     "data": {
      "text/plain": [
       "Day\n",
       "Friday       2903750.0\n",
       "Monday       2958100.0\n",
       "Saturday     2929000.0\n",
       "Sunday       2954850.0\n",
       "Thursday     2857350.0\n",
       "Tuesday      3100700.0\n",
       "Wednesday    2946250.0\n",
       "Name: Amount, dtype: float64"
      ]
     },
     "execution_count": 22,
     "metadata": {},
     "output_type": "execute_result"
    }
   ],
   "source": [
    "# group by amount by day of the week\n",
    "weekly = df.groupby('Day')['Amount'].sum()\n",
    "weekly"
   ]
  },
  {
   "cell_type": "code",
   "execution_count": 23,
   "id": "341e5934",
   "metadata": {},
   "outputs": [
    {
     "data": {
      "image/png": "[encoded data removed]",
      "text/plain": [
       "<Figure size 1000x400 with 1 Axes>"
      ]
     },
     "metadata": {},
     "output_type": "display_data"
    }
   ],
   "source": [
    "# visualize the trend\n",
    "plt.figure(figsize=(10,4))\n",
    "weekly.plot(kind='line', color='red', marker='o', markersize='5')\n",
    "plt.title('Weekly Sales trend for 2019')\n",
    "plt.xlabel('Month')\n",
    "plt.ylabel('Total Amount')\n",
    "plt.xticks(rotation=30)\n",
    "plt.show()\n"
   ]
  },
  {
   "cell_type": "markdown",
   "id": "4ebdf936",
   "metadata": {},
   "source": [
    "`Product Sales Performance by Total Orders and Amount`"
   ]
  },
  {
   "cell_type": "code",
   "execution_count": 24,
   "id": "40c17764",
   "metadata": {},
   "outputs": [
    {
     "data": {
      "text/html": [
       "<div>\n",
       "<style scoped>\n",
       "    .dataframe tbody tr th:only-of-type {\n",
       "        vertical-align: middle;\n",
       "    }\n",
       "\n",
       "    .dataframe tbody tr th {\n",
       "        vertical-align: top;\n",
       "    }\n",
       "\n",
       "    .dataframe thead th {\n",
       "        text-align: right;\n",
       "    }\n",
       "</style>\n",
       "<table border=\"1\" class=\"dataframe\">\n",
       "  <thead>\n",
       "    <tr style=\"text-align: right;\">\n",
       "      <th></th>\n",
       "      <th>Amount</th>\n",
       "      <th>Quantity Ordered</th>\n",
       "    </tr>\n",
       "    <tr>\n",
       "      <th>Product</th>\n",
       "      <th></th>\n",
       "      <th></th>\n",
       "    </tr>\n",
       "  </thead>\n",
       "  <tbody>\n",
       "    <tr>\n",
       "      <th>Apple Airpods Headphones</th>\n",
       "      <td>2330700.0</td>\n",
       "      <td>15538</td>\n",
       "    </tr>\n",
       "    <tr>\n",
       "      <th>iPhone</th>\n",
       "      <td>4766300.0</td>\n",
       "      <td>6809</td>\n",
       "    </tr>\n",
       "    <tr>\n",
       "      <th>Google Phone</th>\n",
       "      <td>3296400.0</td>\n",
       "      <td>5494</td>\n",
       "    </tr>\n",
       "    <tr>\n",
       "      <th>Flatscreen TV</th>\n",
       "      <td>1437900.0</td>\n",
       "      <td>4793</td>\n",
       "    </tr>\n",
       "    <tr>\n",
       "      <th>Macbook Pro Laptop</th>\n",
       "      <td>7995100.0</td>\n",
       "      <td>4703</td>\n",
       "    </tr>\n",
       "    <tr>\n",
       "      <th>Vareebadd Phone</th>\n",
       "      <td>823600.0</td>\n",
       "      <td>2059</td>\n",
       "    </tr>\n",
       "  </tbody>\n",
       "</table>\n",
       "</div>"
      ],
      "text/plain": [
       "                             Amount  Quantity Ordered\n",
       "Product                                              \n",
       "Apple Airpods Headphones  2330700.0             15538\n",
       "iPhone                    4766300.0              6809\n",
       "Google Phone              3296400.0              5494\n",
       "Flatscreen TV             1437900.0              4793\n",
       "Macbook Pro Laptop        7995100.0              4703\n",
       "Vareebadd Phone            823600.0              2059"
      ]
     },
     "execution_count": 24,
     "metadata": {},
     "output_type": "execute_result"
    }
   ],
   "source": [
    "#  product perf\n",
    "# groupby average aggregate\n",
    "per =df.groupby('Product')[['Amount','Quantity Ordered']].sum().sort_values(by = 'Quantity Ordered', ascending=False)\n",
    "per"
   ]
  },
  {
   "cell_type": "code",
   "execution_count": 25,
   "id": "30e8c696",
   "metadata": {},
   "outputs": [
    {
     "data": {
      "text/plain": [
       "<Figure size 1000x400 with 0 Axes>"
      ]
     },
     "metadata": {},
     "output_type": "display_data"
    },
    {
     "data": {
      "image/png": "[encoded data removed]",
      "text/plain": [
       "<Figure size 640x480 with 1 Axes>"
      ]
     },
     "metadata": {},
     "output_type": "display_data"
    }
   ],
   "source": [
    "# visualize the chart\n",
    "# visualize the trend\n",
    "plt.figure(figsize=(10,4))\n",
    "per.plot(kind='bar', color=['gold','lightgreen'], stacked=True)\n",
    "plt.title('Product Sales performance')\n",
    "plt.xlabel('Product')\n",
    "plt.ylabel('Total Amount')\n",
    "plt.xticks(rotation=30)\n",
    "plt.show()\n"
   ]
  },
  {
   "cell_type": "code",
   "execution_count": 26,
   "id": "81fee685",
   "metadata": {},
   "outputs": [
    {
     "data": {
      "image/png": "[encoded data removed]",
      "text/plain": [
       "<Figure size 1000x400 with 1 Axes>"
      ]
     },
     "metadata": {},
     "output_type": "display_data"
    }
   ],
   "source": [
    "# get data for plotting\n",
    "categories = per.index\n",
    "# set abr position\n",
    "x = np.arange(len(categories))\n",
    "width = 0.4\n",
    "# create fig and plot side by side \n",
    "fig, ax = plt.subplots(figsize=(10,4))\n",
    "ax.bar(x - width/2, per['Amount'],width, label='Amount',color='gold')\n",
    "ax.bar(x - width/2, per['Quantity Ordered']*100,width, label='Quantity Ordered',color='black')\n",
    "# customize the plot\n",
    "ax.set_xlabel('Product')\n",
    "ax.set_ylabel('Sales')\n",
    "ax.set_title('Product Sales Performance')\n",
    "ax.set_xticks(x)\n",
    "ax.legend()\n",
    "ax.set_xticklabels(categories, rotation=45)\n",
    "plt.show()"
   ]
  },
  {
   "cell_type": "markdown",
   "id": "79f4c8a7",
   "metadata": {},
   "source": [
    "`City With The Highest Revenue`"
   ]
  },
  {
   "cell_type": "code",
   "execution_count": 27,
   "id": "5c16fa0b",
   "metadata": {},
   "outputs": [
    {
     "data": {
      "text/plain": [
       "<Axes: xlabel='City'>"
      ]
     },
     "execution_count": 27,
     "metadata": {},
     "output_type": "execute_result"
    },
    {
     "data": {
      "image/png": "[encoded data removed]",
      "text/plain": [
       "<Figure size 640x480 with 1 Axes>"
      ]
     },
     "metadata": {},
     "output_type": "display_data"
    }
   ],
   "source": [
    "# the city with highest Performance\n",
    "df.groupby('City')['City'].count().plot.bar()"
   ]
  },
  {
   "cell_type": "code",
   "execution_count": 28,
   "id": "774ef7e9",
   "metadata": {},
   "outputs": [
    {
     "data": {
      "text/html": [
       "<div>\n",
       "<style scoped>\n",
       "    .dataframe tbody tr th:only-of-type {\n",
       "        vertical-align: middle;\n",
       "    }\n",
       "\n",
       "    .dataframe tbody tr th {\n",
       "        vertical-align: top;\n",
       "    }\n",
       "\n",
       "    .dataframe thead th {\n",
       "        text-align: right;\n",
       "    }\n",
       "</style>\n",
       "<table border=\"1\" class=\"dataframe\">\n",
       "  <thead>\n",
       "    <tr style=\"text-align: right;\">\n",
       "      <th>Product</th>\n",
       "      <th>Apple Airpods Headphones</th>\n",
       "      <th>Flatscreen TV</th>\n",
       "      <th>Google Phone</th>\n",
       "      <th>Macbook Pro Laptop</th>\n",
       "      <th>Vareebadd Phone</th>\n",
       "      <th>iPhone</th>\n",
       "    </tr>\n",
       "    <tr>\n",
       "      <th>City</th>\n",
       "      <th></th>\n",
       "      <th></th>\n",
       "      <th></th>\n",
       "      <th></th>\n",
       "      <th></th>\n",
       "      <th></th>\n",
       "    </tr>\n",
       "  </thead>\n",
       "  <tbody>\n",
       "    <tr>\n",
       "      <th>Atlanta</th>\n",
       "      <td>188400.0</td>\n",
       "      <td>121500.0</td>\n",
       "      <td>269400.0</td>\n",
       "      <td>640900.0</td>\n",
       "      <td>69200.0</td>\n",
       "      <td>380800.0</td>\n",
       "    </tr>\n",
       "    <tr>\n",
       "      <th>Austin</th>\n",
       "      <td>132000.0</td>\n",
       "      <td>71700.0</td>\n",
       "      <td>161400.0</td>\n",
       "      <td>425000.0</td>\n",
       "      <td>42800.0</td>\n",
       "      <td>260400.0</td>\n",
       "    </tr>\n",
       "    <tr>\n",
       "      <th>Boston</th>\n",
       "      <td>246300.0</td>\n",
       "      <td>165000.0</td>\n",
       "      <td>354000.0</td>\n",
       "      <td>812600.0</td>\n",
       "      <td>85600.0</td>\n",
       "      <td>525000.0</td>\n",
       "    </tr>\n",
       "    <tr>\n",
       "      <th>Dallas</th>\n",
       "      <td>177750.0</td>\n",
       "      <td>125400.0</td>\n",
       "      <td>274800.0</td>\n",
       "      <td>646000.0</td>\n",
       "      <td>70400.0</td>\n",
       "      <td>359800.0</td>\n",
       "    </tr>\n",
       "    <tr>\n",
       "      <th>Los Angeles</th>\n",
       "      <td>368100.0</td>\n",
       "      <td>216600.0</td>\n",
       "      <td>504600.0</td>\n",
       "      <td>1264800.0</td>\n",
       "      <td>126000.0</td>\n",
       "      <td>777700.0</td>\n",
       "    </tr>\n",
       "    <tr>\n",
       "      <th>New York City</th>\n",
       "      <td>312150.0</td>\n",
       "      <td>187800.0</td>\n",
       "      <td>451800.0</td>\n",
       "      <td>1111800.0</td>\n",
       "      <td>112000.0</td>\n",
       "      <td>614600.0</td>\n",
       "    </tr>\n",
       "    <tr>\n",
       "      <th>Portland</th>\n",
       "      <td>163200.0</td>\n",
       "      <td>93000.0</td>\n",
       "      <td>211800.0</td>\n",
       "      <td>569500.0</td>\n",
       "      <td>49600.0</td>\n",
       "      <td>312900.0</td>\n",
       "    </tr>\n",
       "    <tr>\n",
       "      <th>San Francisco</th>\n",
       "      <td>555600.0</td>\n",
       "      <td>344700.0</td>\n",
       "      <td>808800.0</td>\n",
       "      <td>1924400.0</td>\n",
       "      <td>196400.0</td>\n",
       "      <td>1156400.0</td>\n",
       "    </tr>\n",
       "    <tr>\n",
       "      <th>Seattle</th>\n",
       "      <td>187200.0</td>\n",
       "      <td>112200.0</td>\n",
       "      <td>259800.0</td>\n",
       "      <td>600100.0</td>\n",
       "      <td>71600.0</td>\n",
       "      <td>378700.0</td>\n",
       "    </tr>\n",
       "  </tbody>\n",
       "</table>\n",
       "</div>"
      ],
      "text/plain": [
       "Product        Apple Airpods Headphones  Flatscreen TV  Google Phone  \\\n",
       "City                                                                   \n",
       "Atlanta                        188400.0       121500.0      269400.0   \n",
       "Austin                         132000.0        71700.0      161400.0   \n",
       "Boston                         246300.0       165000.0      354000.0   \n",
       "Dallas                         177750.0       125400.0      274800.0   \n",
       "Los Angeles                    368100.0       216600.0      504600.0   \n",
       "New York City                  312150.0       187800.0      451800.0   \n",
       "Portland                       163200.0        93000.0      211800.0   \n",
       "San Francisco                  555600.0       344700.0      808800.0   \n",
       "Seattle                        187200.0       112200.0      259800.0   \n",
       "\n",
       "Product        Macbook Pro Laptop  Vareebadd Phone     iPhone  \n",
       "City                                                           \n",
       "Atlanta                  640900.0          69200.0   380800.0  \n",
       "Austin                   425000.0          42800.0   260400.0  \n",
       "Boston                   812600.0          85600.0   525000.0  \n",
       "Dallas                   646000.0          70400.0   359800.0  \n",
       "Los Angeles             1264800.0         126000.0   777700.0  \n",
       "New York City           1111800.0         112000.0   614600.0  \n",
       "Portland                 569500.0          49600.0   312900.0  \n",
       "San Francisco           1924400.0         196400.0  1156400.0  \n",
       "Seattle                  600100.0          71600.0   378700.0  "
      ]
     },
     "execution_count": 28,
     "metadata": {},
     "output_type": "execute_result"
    }
   ],
   "source": [
    "# group city by amount\n",
    "gd= df.groupby(['City','Product'])['Amount'].sum().unstack()\n",
    "gd"
   ]
  },
  {
   "cell_type": "code",
   "execution_count": 29,
   "id": "5f255014",
   "metadata": {},
   "outputs": [
    {
     "data": {
      "text/plain": [
       "<Figure size 1000x400 with 0 Axes>"
      ]
     },
     "metadata": {},
     "output_type": "display_data"
    },
    {
     "data": {
      "image/png": "[encoded data removed]",
      "text/plain": [
       "<Figure size 640x480 with 1 Axes>"
      ]
     },
     "metadata": {},
     "output_type": "display_data"
    }
   ],
   "source": [
    "# visualize the chart\n",
    "# visualize the trend\n",
    "plt.figure(figsize=(10,4))\n",
    "gd.plot(kind='bar', color=['green','lightgreen','purple','blue','orange','red'],stacked=False)\n",
    "plt.title('Sales By City')\n",
    "plt.xlabel('Product and City')\n",
    "plt.ylabel('Total Amount')\n",
    "plt.xticks(rotation=30)\n",
    "plt.legend()\n",
    "plt.show()\n"
   ]
  },
  {
   "cell_type": "markdown",
   "id": "b94e90aa",
   "metadata": {},
   "source": [
    "`Key Performance Metrics`"
   ]
  },
  {
   "cell_type": "code",
   "execution_count": 30,
   "id": "90bae1ad",
   "metadata": {},
   "outputs": [],
   "source": [
    "# measure kpis\n",
    "Total_Products =df['Product'].nunique()\n",
    "No_of_City =df['City'].nunique()\n",
    "Quantity_Ordered =df['Quantity Ordered'].sum()\n",
    "Revenue =df['Amount'].sum()"
   ]
  },
  {
   "cell_type": "code",
   "execution_count": 31,
   "id": "68c03454",
   "metadata": {},
   "outputs": [
    {
     "name": "stdout",
     "output_type": "stream",
     "text": [
      "Total_Products:6\n",
      "No_of_City:9\n",
      "Quantity_Ordered:39396\n",
      "Revenue:20650000.0\n"
     ]
    }
   ],
   "source": [
    "# print output\n",
    "print('Total_Products', Total_Products, sep=':')\n",
    "print('No_of_City',No_of_City, sep=':')\n",
    "print('Quantity_Ordered', Quantity_Ordered, sep=':')\n",
    "print('Revenue',Revenue, sep=':')"
   ]
  }
 ],
 "metadata": {
  "kernelspec": {
   "display_name": "base",
   "language": "python",
   "name": "python3"
  },
  "language_info": {
   "codemirror_mode": {
    "name": "ipython",
    "version": 3
   },
   "file_extension": ".py",
   "mimetype": "text/x-python",
   "name": "python",
   "nbconvert_exporter": "python",
   "pygments_lexer": "ipython3",
   "version": "3.13.5"
  }
 },
 "nbformat": 4,
 "nbformat_minor": 5
}
